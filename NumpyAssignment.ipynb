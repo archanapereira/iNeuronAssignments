{
 "cells": [
  {
   "cell_type": "markdown",
   "metadata": {},
   "source": [
    "Write a function so that the columns of the output matrix are powers of the input\n",
    "vector.\n",
    "The order of the powers is determined by the increasing boolean argument. Specifically, when\n",
    "increasing is False, the i-th output column is the input vector raised element-wise to the power\n",
    "of N - i - 1.\n",
    "HINT: Such a matrix with a geometric progression in each row is named for AlexandreTheophile Vandermonde."
   ]
  },
  {
   "cell_type": "code",
   "execution_count": 2,
   "metadata": {},
   "outputs": [
    {
     "name": "stdout",
     "output_type": "stream",
     "text": [
      "The input array is: [1 2 3 5] \n",
      "\n",
      "The number of columns in output matrix will be 3 \n",
      "\n",
      "Vandermonde matrix result (descreasing order)\n",
      " [[ 1  1  1]\n",
      " [ 4  2  1]\n",
      " [ 9  3  1]\n",
      " [25  5  1]]\n",
      "\n",
      "Vandermonde matrix result (increasing order) \n",
      " [[ 1  1  1]\n",
      " [ 1  2  4]\n",
      " [ 1  3  9]\n",
      " [ 1  5 25]] \n",
      "\n"
     ]
    }
   ],
   "source": [
    "import numpy as np\n",
    "def vandermonde_matrix(m, N, increasing = False):\n",
    "        if increasing == True:\n",
    "            new_shape =  np.reshape([[i ** j  for j in range(N)]  for i in m], (m.size, N))\n",
    "        else:\n",
    "            new_shape = np.reshape([[i ** j  for j in range(N-1,-1,-1)]  for i in m], (m.size, N))\n",
    "        return new_shape\n",
    "    \n",
    "m = np.array([1,2,3,5])\n",
    "N = 3\n",
    "\n",
    "decreasing_order_matrix = vandermonde_matrix(m, N)\n",
    "increasing_order_matrix = vandermonde_matrix(m, N, True)\n",
    "\n",
    "print(\"The input array is: {} {}\".format(m, \"\\n\"))\n",
    "print(f\"The number of columns in output matrix will be {N} \\n\")\n",
    "print(f\"Vandermonde matrix result (descreasing order)\\n {decreasing_order_matrix}\\n\")\n",
    "print(f\"Vandermonde matrix result (increasing order) \\n {increasing_order_matrix} \\n\")"
   ]
  },
  {
   "cell_type": "markdown",
   "metadata": {},
   "source": [
    "Write a function to find moving average in an array over a window:\n",
    " Test it over [3, 5, 7, 2, 8, 10, 11, 65, 72, 81, 99, 100, 150] and window of 3."
   ]
  },
  {
   "cell_type": "code",
   "execution_count": 3,
   "metadata": {},
   "outputs": [
    {
     "name": "stdout",
     "output_type": "stream",
     "text": [
      "The moving average sequence has 11 values.\n",
      "The iterated values are : [5.0, 4.67, 5.67, 6.67, 9.67, 28.67, 49.33, 72.67, 84.0, 93.33, 116.33]\n"
     ]
    }
   ],
   "source": [
    "import numpy as np\n",
    "arr1 = np.array([3, 5, 7, 2, 8, 10, 11, 65, 72, 81, 99, 100, 150])\n",
    "window = 3\n",
    "lst1 = []\n",
    "\n",
    "def calculate_moving_average(arr1, window):\n",
    "    counter = 0\n",
    "    for i in range(0, arr1.size):\n",
    "        custom_lst = arr1[i:i+window]\n",
    "        if custom_lst.size == 3:\n",
    "            x = round(sum(custom_lst)/window,2)\n",
    "            lst1.append(x)\n",
    "            counter += 1\n",
    "    return counter\n",
    "\n",
    "moving_average = calculate_moving_average(arr1, window)\n",
    "print(f\"The moving average sequence has {moving_average} values.\")\n",
    "print(f\"The iterated values are : {lst1}\")"
   ]
  },
  {
   "cell_type": "code",
   "execution_count": null,
   "metadata": {},
   "outputs": [],
   "source": []
  }
 ],
 "metadata": {
  "kernelspec": {
   "display_name": "Python 3",
   "language": "python",
   "name": "python3"
  },
  "language_info": {
   "codemirror_mode": {
    "name": "ipython",
    "version": 3
   },
   "file_extension": ".py",
   "mimetype": "text/x-python",
   "name": "python",
   "nbconvert_exporter": "python",
   "pygments_lexer": "ipython3",
   "version": "3.7.3"
  }
 },
 "nbformat": 4,
 "nbformat_minor": 2
}
