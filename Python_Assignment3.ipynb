{
 "cells": [
  {
   "cell_type": "code",
   "execution_count": 34,
   "metadata": {},
   "outputs": [
    {
     "name": "stdout",
     "output_type": "stream",
     "text": [
      "Addition using custome reduce: 15\n",
      "Multiplication using custom reduce : 120\n"
     ]
    }
   ],
   "source": [
    "#Write a Python Program to implement your own myreduce() function which works exactly like\n",
    "#Python's built-in function reduce()\n",
    "def custom_reduce(fun, alist):\n",
    "    x = alist[0]    \n",
    "    for i in range(1, len(alist)):\n",
    "        x = fun(x, alist[i])\n",
    "    return x\n",
    "\n",
    "def addition(x1, x2):\n",
    "    return (x1 + x2)\n",
    "\n",
    "def multiplication(x1, x2):\n",
    "    return(x1 * x2)\n",
    "\n",
    "a = [1, 2, 3, 4, 5]\n",
    "print(f\"Addition using custome reduce: {custom_reduce(addition,a)}\")\n",
    "print(f\"Multiplication using custom reduce : {custom_reduce(multiplication,a)}\")"
   ]
  },
  {
   "cell_type": "code",
   "execution_count": 28,
   "metadata": {},
   "outputs": [
    {
     "name": "stdout",
     "output_type": "stream",
     "text": [
      "Numbers greater than 75 -  [76, 81, 88, 90]\n",
      "Prime numbers - [59]\n",
      "Multiples of 5 - [60, 65, 90]\n"
     ]
    }
   ],
   "source": [
    "#Write a Python program to implement your own myfilter() function which works exactly\n",
    "#like Python's built-in function filter()\n",
    "def custom_filter(func, alist):    \n",
    "    for i in alist:\n",
    "        if func(i):\n",
    "            yield i\n",
    "            \n",
    "def is_A_student(score):\n",
    "    return score > 75\n",
    "\n",
    "def is_prime(num):    \n",
    "    if num > 1:\n",
    "        for i in range(2, num//2):\n",
    "            if(num % i) == 0:\n",
    "                return False\n",
    "                break\n",
    "        else:\n",
    "            return True\n",
    "    else:\n",
    "        return False\n",
    "\n",
    "    \n",
    "def multiple_five(i):\n",
    "    if i%5==0:\n",
    "        return i\n",
    "    else:\n",
    "        return False\n",
    "\n",
    "scores = [66, 90, 68, 59, 76, 60, 88, 74, 81, 65]\n",
    "\n",
    "#Using custom filter function.\n",
    "over_75 = sorted(list(custom_filter(is_A_student, scores)))\n",
    "prime_numbers = sorted(list(custom_filter(is_prime, scores)))\n",
    "multiples_five = sorted(list(custom_filter(multiple_five, scores)))\n",
    "\n",
    "#Over 75\n",
    "print(f'Numbers greater than 75 -  {over_75}')\n",
    "#Prime numbers\n",
    "print(f'Prime numbers - {prime_numbers}')\n",
    "#Multiples of five\n",
    "print(f'Multiples of 5 - {multiples_five}')"
   ]
  },
  {
   "cell_type": "code",
   "execution_count": 29,
   "metadata": {},
   "outputs": [
    {
     "data": {
      "text/plain": [
       "['x', 'xx', 'xxx', 'xxxx', 'y', 'yy', 'yyy', 'yyyy', 'z', 'zz', 'zzz', 'zzzz']"
      ]
     },
     "execution_count": 29,
     "metadata": {},
     "output_type": "execute_result"
    }
   ],
   "source": [
    "# Print this - ['x', 'xx', 'xxx', 'xxxx', 'y', 'yy', 'yyy', 'yyyy', 'z', 'zz', 'zzz', 'zzzz']\n",
    "new_list = [i * y for i in ['x','y','z'] for y in range(1,5)]\n",
    "new_list"
   ]
  },
  {
   "cell_type": "code",
   "execution_count": 30,
   "metadata": {},
   "outputs": [
    {
     "data": {
      "text/plain": [
       "['x', 'y', 'z', 'xx', 'yy', 'zz', 'xxx', 'yyy', 'zzz', 'xxxx', 'yyyy', 'zzzz']"
      ]
     },
     "execution_count": 30,
     "metadata": {},
     "output_type": "execute_result"
    }
   ],
   "source": [
    "# Print this -['x', 'y', 'z', 'xx', 'yy', 'zz', 'xxx', 'yyy', 'zzz', 'xxxx', 'yyyy', 'zzzz']\n",
    "new_list = [y*(i) for i in range(1,5) for y in ['x','y','z']]\n",
    "new_list"
   ]
  },
  {
   "cell_type": "code",
   "execution_count": 31,
   "metadata": {},
   "outputs": [
    {
     "data": {
      "text/plain": [
       "[[[2], [3], [4], [3], [4], [5], [4], [5], [6]]]"
      ]
     },
     "execution_count": 31,
     "metadata": {},
     "output_type": "execute_result"
    }
   ],
   "source": [
    "#Print this [[2], [3], [4], [3], [4], [5], [4], [5], [6]]\n",
    "new_list = [[[m + i] for m in range(2, 5) for i in range(0,3)]]\n",
    "new_list"
   ]
  },
  {
   "cell_type": "code",
   "execution_count": 32,
   "metadata": {},
   "outputs": [
    {
     "data": {
      "text/plain": [
       "[[2, 3, 4, 5], [3, 4, 5, 6], [4, 5, 6, 7], [5, 6, 7, 8]]"
      ]
     },
     "execution_count": 32,
     "metadata": {},
     "output_type": "execute_result"
    }
   ],
   "source": [
    "#Print this [[2, 3, 4, 5], [3, 4, 5, 6], [4, 5, 6, 7], [5, 6, 7, 8]]\n",
    "new_list = [[row + i for row in range(2,6)]  for i in range(0,4)]\n",
    "new_list"
   ]
  },
  {
   "cell_type": "code",
   "execution_count": 33,
   "metadata": {},
   "outputs": [
    {
     "data": {
      "text/plain": [
       "[(1, 1), (2, 1), (3, 1), (1, 2), (2, 2), (3, 2), (1, 3), (2, 3), (3, 3)]"
      ]
     },
     "execution_count": 33,
     "metadata": {},
     "output_type": "execute_result"
    }
   ],
   "source": [
    "# [(1, 1), (2, 1), (3, 1), (1, 2), (2, 2), (3, 2), (1, 3), (2, 3), (3, 3)]\n",
    "new_list = [(j,i)  for i in range(1,4) for j in range(1,4)]\n",
    "new_list"
   ]
  }
 ],
 "metadata": {
  "kernelspec": {
   "display_name": "Python 3",
   "language": "python",
   "name": "python3"
  },
  "language_info": {
   "codemirror_mode": {
    "name": "ipython",
    "version": 3
   },
   "file_extension": ".py",
   "mimetype": "text/x-python",
   "name": "python",
   "nbconvert_exporter": "python",
   "pygments_lexer": "ipython3",
   "version": "3.7.3"
  }
 },
 "nbformat": 4,
 "nbformat_minor": 2
}
