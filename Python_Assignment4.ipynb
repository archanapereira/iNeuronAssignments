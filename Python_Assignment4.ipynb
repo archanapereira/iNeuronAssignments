{
 "cells": [
  {
   "cell_type": "code",
   "execution_count": 3,
   "metadata": {},
   "outputs": [
    {
     "name": "stdout",
     "output_type": "stream",
     "text": [
      "Enter the first side: 5\n",
      "Enter the second side: 6\n",
      "Enter the third side: 7\n",
      "The area of the triangle is 14.70\n"
     ]
    }
   ],
   "source": [
    "#Write a Python Program(with class concepts) to find the area of the triangle using the below\n",
    "#formula.\n",
    "#area = (s*(s-a)*(s-b)*(s-c)) ** 0.5\n",
    "#Function to take the length of the sides of triangle from user should be defined in the parent\n",
    "#class and function to calculate the area should be defined in subclass.\n",
    "class Shape:    \n",
    "    _sideA = None\n",
    "    _sideB = None\n",
    "    _sideC = None\n",
    "        \n",
    "    def __init__(self, sideA, sideB, sideC):\n",
    "        self._sideA = sideA\n",
    "        self._sideB = sideB\n",
    "        self._sideC = sideC      \n",
    "        \n",
    "class Triangle(Shape):\n",
    "    # constructor  \n",
    "    def __init__(self, sideA, sideB, sideC): \n",
    "            Shape.__init__(self, sideA, sideB, sideC)\n",
    "            \n",
    "    def calculateArea(self):\n",
    "        s = (self._sideA + self._sideB + self._sideC) / 2\n",
    "        area = (s*(s - self._sideA)*(s - self._sideB)*(s - self._sideC)) ** 0.5\n",
    "        return area \n",
    "sideA = float(input(\"Enter the first side: \"))\n",
    "sideB = float(input(\"Enter the second side: \"))\n",
    "sideC = float(input(\"Enter the third side: \"))\n",
    "\n",
    "shape1 = Triangle(sideA,sideB, sideC)\n",
    "area = shape1.calculateArea()\n",
    "print(\"The area of the triangle is %0.2f\"%area)"
   ]
  },
  {
   "cell_type": "code",
   "execution_count": 4,
   "metadata": {},
   "outputs": [
    {
     "data": {
      "text/plain": [
       "['Bukinghamshire', 'Brentwood', 'Basildon']"
      ]
     },
     "execution_count": 4,
     "metadata": {},
     "output_type": "execute_result"
    }
   ],
   "source": [
    "#Write a function filter_long_words() that takes a list of words and an integer n and returns the list\n",
    "#of words that are longer than n.\n",
    "\n",
    "def filter_long_words(lst, num):\n",
    "    for i in lst:\n",
    "        if(len(i) > num):\n",
    "            yield i\n",
    "\n",
    "lst =['Bukinghamshire', 'Brentwood', 'Basildon', 'Warley', 'Ongar']\n",
    "list(filter_long_words (lst, 6))"
   ]
  },
  {
   "cell_type": "code",
   "execution_count": 9,
   "metadata": {},
   "outputs": [
    {
     "name": "stdout",
     "output_type": "stream",
     "text": [
      "[14, 9, 8, 6, 5]\n"
     ]
    }
   ],
   "source": [
    "#Write a Python program using function concept that maps list of words into a list of integers\n",
    "#representing the lengths of the corresponding words.\n",
    "#Hint: If a list [ ab,cde,erty] is passed on to the python function output should come as [2,3,4]\n",
    "#Here 2,3 and 4 are the lengths of the words in the list\n",
    "\n",
    "lst = list(map(lambda x: len(x), ['Bukinghamshire', 'Brentwood', 'Basildon', 'Warley', 'Ongar']))\n",
    "print(lst)"
   ]
  },
  {
   "cell_type": "code",
   "execution_count": 6,
   "metadata": {},
   "outputs": [
    {
     "name": "stdout",
     "output_type": "stream",
     "text": [
      "Enter a character: r\n",
      "The entered character is not a vowel.\n"
     ]
    }
   ],
   "source": [
    "#Write a Python function which takes a character (i.e. a string of length 1) and returns True if it is\n",
    "#a vowel, False otherwise.\n",
    "#1st approach\n",
    "def isVowel(char):\n",
    "    char.lower()\n",
    "    vowels = ['a','e','i','o','u']\n",
    "    for i in vowels:\n",
    "        if i == char.lower():\n",
    "            return True\n",
    "    else:\n",
    "        return False\n",
    "char = input(\"Enter a character: \")\n",
    "message = \"The entered character is \"\n",
    "\n",
    "if isVowel(char) == True:\n",
    "    print(message + \"a vowel.\")\n",
    "else:\n",
    "    print(message + \"not a vowel.\")  "
   ]
  },
  {
   "cell_type": "code",
   "execution_count": 9,
   "metadata": {},
   "outputs": [
    {
     "name": "stdout",
     "output_type": "stream",
     "text": [
      "Enter a character: e\n",
      "The entered character is a vowel.\n"
     ]
    }
   ],
   "source": [
    "#2nd approach\n",
    "def isVowel(char):\n",
    "    vowels = \"aeiou\"\n",
    "    return char.lower() in vowels\n",
    "\n",
    "char = input(\"Enter a character: \")\n",
    "message = \"The entered character is \"\n",
    "\n",
    "if isVowel(char) == True:\n",
    "    print(message + \"a vowel.\")\n",
    "else:\n",
    "    print(message + \"not a vowel.\")  "
   ]
  }
 ],
 "metadata": {
  "kernelspec": {
   "display_name": "Python 3",
   "language": "python",
   "name": "python3"
  },
  "language_info": {
   "codemirror_mode": {
    "name": "ipython",
    "version": 3
   },
   "file_extension": ".py",
   "mimetype": "text/x-python",
   "name": "python",
   "nbconvert_exporter": "python",
   "pygments_lexer": "ipython3",
   "version": "3.7.3"
  }
 },
 "nbformat": 4,
 "nbformat_minor": 2
}
